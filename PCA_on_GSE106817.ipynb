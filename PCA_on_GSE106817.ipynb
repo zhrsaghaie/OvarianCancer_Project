{
  "nbformat": 4,
  "nbformat_minor": 0,
  "metadata": {
    "colab": {
      "provenance": [],
      "mount_file_id": "1_YMIgNz6N_vlWhinK74pTlvLB66Rz5MM",
      "authorship_tag": "ABX9TyO0FRkoGd8D2ZEC2b+Ot4PI",
      "include_colab_link": true
    },
    "kernelspec": {
      "name": "python3",
      "display_name": "Python 3"
    },
    "language_info": {
      "name": "python"
    }
  },
  "cells": [
    {
      "cell_type": "markdown",
      "metadata": {
        "id": "view-in-github",
        "colab_type": "text"
      },
      "source": [
        "<a href=\"https://colab.research.google.com/github/zhrsaghaie/OvarianCancer_Project/blob/master/PCA_on_GSE106817.ipynb\" target=\"_parent\"><img src=\"https://colab.research.google.com/assets/colab-badge.svg\" alt=\"Open In Colab\"/></a>"
      ]
    },
    {
      "cell_type": "code",
      "execution_count": null,
      "metadata": {
        "id": "osMRy7SLhEu8"
      },
      "outputs": [],
      "source": [
        "import pandas as pd\n",
        "import plotly.graph_objects as go\n",
        "from sklearn.model_selection import train_test_split\n",
        "from sklearn.neighbors import KNeighborsClassifier\n",
        "import numpy as np\n",
        "from sklearn.neighbors import KNeighborsClassifier\n",
        "\n",
        "path = \"/content/drive/MyDrive/Colab Notebooks/GSE106817_Data.csv\"\n",
        "all_samples = pd.read_csv(path)\n",
        "\n",
        "y = all_samples[\"HasCancer\"].tolist()\n",
        "x = all_samples.iloc[:, :-1]\n",
        "\n",
        "# Load and split data\n",
        "\n",
        "# X, y = make_moons(noise=0.3, random_state=0)\n",
        "x_train, x_test, y_train, y_test = train_test_split(x, y, test_size=0.25, random_state=0)\n"
      ]
    },
    {
      "cell_type": "code",
      "source": [
        "x_train[\"MIMAT0027629\"][0]\n"
      ],
      "metadata": {
        "colab": {
          "base_uri": "https://localhost:8080/"
        },
        "id": "y47Rejna3yOQ",
        "outputId": "972d2ad6-08b6-4c72-8e4d-27e01873b718"
      },
      "execution_count": null,
      "outputs": [
        {
          "output_type": "execute_result",
          "data": {
            "text/plain": [
              "4.109"
            ]
          },
          "metadata": {},
          "execution_count": 12
        }
      ]
    },
    {
      "cell_type": "code",
      "source": [
        "y_train[0]\n"
      ],
      "metadata": {
        "colab": {
          "base_uri": "https://localhost:8080/"
        },
        "id": "knClHOHz4mjF",
        "outputId": "a1b9ca23-cd40-45bd-a76d-ad0a4ef0046c"
      },
      "execution_count": null,
      "outputs": [
        {
          "output_type": "execute_result",
          "data": {
            "text/plain": [
              "0"
            ]
          },
          "metadata": {},
          "execution_count": 18
        }
      ]
    },
    {
      "cell_type": "code",
      "source": [
        "x_train.shape"
      ],
      "metadata": {
        "colab": {
          "base_uri": "https://localhost:8080/"
        },
        "id": "G_bHQLZq58Ws",
        "outputId": "b161e2c7-8d6a-45db-a657-4e1b0bfc16ee"
      },
      "execution_count": null,
      "outputs": [
        {
          "output_type": "execute_result",
          "data": {
            "text/plain": [
              "(691, 2565)"
            ]
          },
          "metadata": {},
          "execution_count": 19
        }
      ]
    },
    {
      "cell_type": "code",
      "source": [
        "#Normalization\n",
        "\n",
        "mm = all_samples.min().min()\n",
        "all_samples = all_samples + (-mm)\n",
        "all_samples /= 23.385"
      ],
      "metadata": {
        "id": "_bkZ333y6CAy"
      },
      "execution_count": null,
      "outputs": []
    },
    {
      "cell_type": "code",
      "source": [
        "# ---------------------------\n",
        "# Convert to Gene names\n",
        "# ----------------------------\n",
        "\n",
        "import time\n",
        "import requests\n",
        "from bs4 import BeautifulSoup\n",
        "\n",
        "def get_gene_symbol(gene_id):\n",
        "    # Use the NCBI Gene ID to retrieve information about the gene\n",
        "    response = requests.get(f'https://eutils.ncbi.nlm.nih.gov/entrez/eutils/efetch.fcgi?db=gene&id={gene_id}&retmode=xml')\n",
        "    time.sleep(1)\n",
        "    soup = BeautifulSoup(response.text, 'xml')\n",
        "    gene_symbol = soup.find('Gene-ref').find('Gene-ref_locus').text\n",
        "\n",
        "    return gene_symbol\n",
        "\n",
        "\n",
        "\n",
        "def print_genes(genes):\n",
        "    for gene_id in genes:\n",
        "        # Example usage:\n",
        "        #gene_id = 'MIMAT0019221'\n",
        "        gene_symbol = get_gene_symbol(gene_id)\n",
        "        print(f'Gene ID {gene_id} is {gene_symbol}')"
      ],
      "metadata": {
        "id": "xRqWPCcl6KfA"
      },
      "execution_count": null,
      "outputs": []
    },
    {
      "cell_type": "code",
      "source": [
        "# -----------------\n",
        "# Using PCA\n",
        "# -------------------\n",
        "\n",
        "from sklearn.decomposition import PCA\n",
        "\n",
        "df = all_samples\n",
        "\n",
        "pca = PCA(n_components=10)\n",
        "# Split the data into features (X)\n",
        "X = df.iloc[:, :-1] # assuming the last column is the target column\n",
        "\n",
        "# Reduce the number of features to 30 using PCA\n",
        "pca = PCA(n_components=30)\n",
        "X_new = pca.fit_transform(X)\n",
        "\n",
        "\n",
        "\n",
        "\n",
        "print(\"variance ratio\", pca.explained_variance_ratio_)\n",
        "\n",
        "# print(\"components\", pca.components_)\n",
        "\n",
        "pca_top_features = [df.columns[i] for i in pca.components_.argsort()[:1, :30]][0]\n",
        "print(\"\\n\\ntop features\", pca_top_features)"
      ],
      "metadata": {
        "colab": {
          "base_uri": "https://localhost:8080/"
        },
        "id": "kEwMY_J16dVz",
        "outputId": "da2c94ff-82f1-43fd-c34a-35e286e20444"
      },
      "execution_count": null,
      "outputs": [
        {
          "output_type": "stream",
          "name": "stdout",
          "text": [
            "variance ratio [0.29577822 0.04869341 0.03333378 0.01675    0.01449951 0.01220008\n",
            " 0.01161551 0.00785954 0.00729409 0.00640559 0.00567038 0.00490737\n",
            " 0.00473793 0.00435979 0.00422605 0.00354309 0.00341826 0.00324407\n",
            " 0.00309485 0.00295891 0.00272074 0.0026422  0.00247779 0.0024453\n",
            " 0.00232853 0.00224948 0.00221566 0.00219201 0.00208967 0.0020746 ]\n",
            "\n",
            "\n",
            "top features Index(['MIMAT0004602', 'MIMAT0027614', 'MIMAT0019710', 'MIMAT0015064',\n",
            "       'MIMAT0003240', 'MIMAT0004592', 'MIMAT0019015', 'MIMAT0004508',\n",
            "       'MIMAT0005866', 'MIMAT0019852', 'MIMAT0027550', 'MIMAT0027452',\n",
            "       'MIMAT0027468', 'MIMAT0027409', 'MIMAT0022717', 'MIMAT0025458',\n",
            "       'MIMAT0027477', 'MIMAT0019214', 'MIMAT0024610', 'MIMAT0027461',\n",
            "       'MIMAT0027681', 'MIMAT0028117', 'MIMAT0026477', 'MIMAT0027500',\n",
            "       'MIMAT0004951', 'MIMAT0004982', 'MIMAT0022945', 'MIMAT0027453',\n",
            "       'MIMAT0027665', 'MIMAT0003887'],\n",
            "      dtype='object')\n"
          ]
        }
      ]
    },
    {
      "cell_type": "code",
      "source": [
        "pca_top_features_file =  \"/content/drive/MyDrive/Colab Notebooks/pca_top_features_file.csv\"\n",
        "df_pca_top_features = pd.DataFrame(pca_top_features)\n",
        "df_pca_top_features.to_csv(pca_top_features_file, index=False)"
      ],
      "metadata": {
        "id": "HVl_GUxf6xV1"
      },
      "execution_count": null,
      "outputs": []
    },
    {
      "cell_type": "code",
      "source": [
        "\n",
        "# Setup arrays to store training and test accuracies\n",
        "neighbors = np.arange(1, 9)\n",
        "train_accuracy = np.empty(len(neighbors))\n",
        "test_accuracy = np.empty(len(neighbors))\n"
      ],
      "metadata": {
        "id": "2tcJ8rub3UJ3"
      },
      "execution_count": null,
      "outputs": []
    },
    {
      "cell_type": "code",
      "source": [
        "\n",
        "for i, k in enumerate(neighbors):\n",
        "    # Setup a knn classifier with k neighbors\n",
        "    knn = KNeighborsClassifier(n_neighbors=k)\n",
        "\n",
        "    # Fit the model\n",
        "    knn.fit(x_train, y_train)\n",
        "\n",
        "    # Compute accuracy on the training set\n",
        "    train_accuracy[i] = knn.score(x_train, y_train)\n",
        "\n",
        "    # Compute accuracy on the test set\n",
        "    test_accuracy[i] = knn.score(x_test, y_test)\n"
      ],
      "metadata": {
        "id": "E-NoZy7z3WyI"
      },
      "execution_count": null,
      "outputs": []
    },
    {
      "cell_type": "code",
      "source": [],
      "metadata": {
        "id": "JZmmR8rK4xEG"
      },
      "execution_count": null,
      "outputs": []
    }
  ]
}