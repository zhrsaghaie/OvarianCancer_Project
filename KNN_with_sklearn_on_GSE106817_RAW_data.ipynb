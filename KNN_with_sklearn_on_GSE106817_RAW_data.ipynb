{
  "nbformat": 4,
  "nbformat_minor": 0,
  "metadata": {
    "colab": {
      "provenance": [],
      "mount_file_id": "1WgkVdMdvqY2UG3zz1RYp1xXllKxwT3ok",
      "authorship_tag": "ABX9TyMk5KjrCG9d6oaOh9EdgeiG",
      "include_colab_link": true
    },
    "kernelspec": {
      "name": "python3",
      "display_name": "Python 3"
    },
    "language_info": {
      "name": "python"
    }
  },
  "cells": [
    {
      "cell_type": "markdown",
      "metadata": {
        "id": "view-in-github",
        "colab_type": "text"
      },
      "source": [
        "<a href=\"https://colab.research.google.com/github/zhrsaghaie/OvarianCancer_Project/blob/master/KNN_with_sklearn_on_GSE106817_RAW_data.ipynb\" target=\"_parent\"><img src=\"https://colab.research.google.com/assets/colab-badge.svg\" alt=\"Open In Colab\"/></a>"
      ]
    },
    {
      "cell_type": "code",
      "execution_count": null,
      "metadata": {
        "id": "eKDDNi6WIrVI"
      },
      "outputs": [],
      "source": [
        "import pandas as pd\n",
        "import plotly.graph_objects as go\n",
        "from sklearn.model_selection import train_test_split\n",
        "from sklearn.neighbors import KNeighborsClassifier\n",
        "import numpy as np\n",
        "from sklearn.neighbors import KNeighborsClassifier\n",
        "from sklearn.metrics import precision_score, recall_score, f1_score, accuracy_score, confusion_matrix\n",
        "\n",
        "\n",
        "path = \"/content/drive/MyDrive/Colab Notebooks/GSE106817_Data.csv\"\n",
        "all_samples = pd.read_csv(path)\n",
        "\n",
        "y = all_samples[\"HasCancer\"].tolist()\n",
        "x = all_samples.iloc[:, :-1]\n",
        "\n",
        "# # Load data from PCA\n",
        "# path = \"/content/drive/MyDrive/Colab Notebooks/pca_top_features_file.csv\"\n",
        "# PCA_feature_list = pd.read_csv(path)\n",
        "\n",
        "# # Filter data by PCA results\n",
        "# pca_filter = PCA_feature_list[\"0\"].tolist()\n",
        "# x = x[pca_filter]\n",
        "\n",
        "\n",
        "# Split the data into training and test sets with a test size of 0.4\n",
        "x_train, x_test, y_train, y_test = train_test_split(x, y, test_size=0.4, random_state=10)"
      ]
    },
    {
      "cell_type": "code",
      "source": [
        "def print_mertics(y_test, y_pred):\n",
        "\n",
        "  tn, fp, fn, tp = confusion_matrix(y_test, y_pred).ravel()\n",
        "  specificity = tn / (tn+fp)\n",
        "  sensitivity = tp / (tp+fn)\n",
        "  print(f\"{specificity= :.4f}\")\n",
        "  print(f\"{sensitivity= :.4f}\")\n",
        "\n",
        "  # Calculate precision, recall, and F1-score\n",
        "  precision = precision_score(y_test, y_pred)\n",
        "  recall = recall_score(y_test, y_pred)\n",
        "  f1 = f1_score(y_test, y_pred)\n",
        "\n",
        "  accuracy = accuracy_score(y_test, y_pred)\n",
        "  print(f\"Accuracy on the test set: {accuracy:.4f}\")\n",
        "\n",
        "  print(f\"Precision: {precision:.4f}\")\n",
        "  print(f\"Recall: {recall:.4f}\")\n",
        "  print(f\"f1_score: {f1:.4f}\")\n",
        "\n",
        "  balanced_accuracy =sensitivity + 2 * specificity\n",
        "  print(f\"Balanced accuracy: {balanced_accuracy:.4f}\")\n"
      ],
      "metadata": {
        "id": "824AsIzhXkGZ"
      },
      "execution_count": null,
      "outputs": []
    },
    {
      "cell_type": "code",
      "source": [
        "# using KNN\n",
        "\n",
        "from sklearn.model_selection import train_test_split, cross_val_score\n",
        "from sklearn.neighbors import KNeighborsClassifier\n",
        "\n",
        "# Create a KNN classifier with k = 25\n",
        "knn = KNeighborsClassifier(n_neighbors=30)\n",
        "\n",
        "# Use cross-validation to create test and train data\n",
        "scores = cross_val_score(knn, x, y, cv=5)\n",
        "print(\"Accuracy for each fold: \", scores)\n",
        "print(\"Mean accuracy: \", scores.mean())\n"
      ],
      "metadata": {
        "colab": {
          "base_uri": "https://localhost:8080/"
        },
        "id": "0yLwmyNkIuE7",
        "outputId": "94053d51-ea16-4aed-8936-a4b28fed73e1"
      },
      "execution_count": null,
      "outputs": [
        {
          "output_type": "stream",
          "name": "stdout",
          "text": [
            "Accuracy for each fold:  [0.77837838 0.84864865 0.9673913  0.95652174 0.96195652]\n",
            "Mean accuracy:  0.9025793184488837\n"
          ]
        }
      ]
    },
    {
      "cell_type": "code",
      "source": [
        "print(\"Run KNN on whole Data\\n---------------------\")\n",
        "# Fit the KNN classifier on the training data\n",
        "knn.fit(x_train, y_train)\n",
        "\n",
        "# Evaluate the KNN classifier on the test data\n",
        "y_pred = knn.predict(x_test)\n",
        "\n",
        "\n",
        "print('KNN \\n -----------------')\n",
        "print_mertics(y_test, y_pred)"
      ],
      "metadata": {
        "colab": {
          "base_uri": "https://localhost:8080/"
        },
        "id": "cwf2sIxRIuHs",
        "outputId": "a676c628-fc19-45a4-8189-8b0cb3387f58"
      },
      "execution_count": null,
      "outputs": [
        {
          "output_type": "stream",
          "name": "stdout",
          "text": [
            "Run KNN on whole Data\n",
            "---------------------\n",
            "KNN \n",
            " -----------------\n",
            "specificity= 0.9244\n",
            "sensitivity= 0.9924\n",
            "Accuracy on the test set: 0.9485\n",
            "Precision: 0.8784\n",
            "Recall: 0.9924\n",
            "f1_score: 0.9319\n",
            "Balanced accuracy: 2.8411\n"
          ]
        }
      ]
    },
    {
      "cell_type": "code",
      "source": [
        "from sklearn.ensemble import RandomForestClassifier\n",
        "\n",
        "\n",
        "# Instantiate a random forest classifier with 500 trees\n",
        "rfc = RandomForestClassifier(n_estimators=2)\n",
        "\n",
        "# Fit the classifier to the training data\n",
        "rfc.fit(x_train, y_train)\n",
        "\n",
        "# Predict the labels of the testing data\n",
        "y_pred = rfc.predict(x_test)\n",
        "\n",
        "\n",
        "print('Random Forest Classifier \\n ----------------------')\n",
        "print_mertics(y_test, y_pred)"
      ],
      "metadata": {
        "colab": {
          "base_uri": "https://localhost:8080/"
        },
        "id": "lWgAgulVIuKv",
        "outputId": "f0662a1a-e691-48fd-f1e4-fe8e0fbcd03f"
      },
      "execution_count": null,
      "outputs": [
        {
          "output_type": "stream",
          "name": "stdout",
          "text": [
            "Random Forest Classifier \n",
            " ----------------------\n",
            "specificity= 1.0000\n",
            "sensitivity= 0.9504\n",
            "Accuracy on the test set: 0.9810\n",
            "Precision: 1.0000\n",
            "Recall: 0.9504\n",
            "f1_score: 0.9745\n",
            "Balanced accuracy: 2.9504\n"
          ]
        }
      ]
    },
    {
      "cell_type": "code",
      "source": [
        "import statsmodels.api as sm\n",
        "\n",
        "# Create a GLM model\n",
        "glm_model = sm.GLM(y, x, family=sm.families.Binomial())\n",
        "\n",
        "# Fit the model\n",
        "glm_results = glm_model.fit()\n",
        "\n",
        "# # Print the summary of the model\n",
        "# print(glm_results.summary())\n",
        "\n",
        "# Predict the labels using the model\n",
        "y_pred_prob = glm_results.predict(x_test)\n",
        "y_pred = (y_pred_prob > 0.5).astype(int)  # Convert probabilities to binary predictions\n",
        "\n",
        "print('Generalized Linear Model (GLM) \\n ----------------------')\n",
        "print_mertics(y_test, y_pred)"
      ],
      "metadata": {
        "colab": {
          "base_uri": "https://localhost:8080/"
        },
        "id": "sdFtQjiU5cUr",
        "outputId": "90112ab4-3a6e-4c84-c741-f9cd36345e10"
      },
      "execution_count": null,
      "outputs": [
        {
          "output_type": "stream",
          "name": "stderr",
          "text": [
            "/usr/local/lib/python3.10/dist-packages/statsmodels/genmod/generalized_linear_model.py:1257: PerfectSeparationWarning: Perfect separation or prediction detected, parameter may not be identified\n",
            "  warnings.warn(msg, category=PerfectSeparationWarning)\n",
            "/usr/local/lib/python3.10/dist-packages/statsmodels/genmod/generalized_linear_model.py:1257: PerfectSeparationWarning: Perfect separation or prediction detected, parameter may not be identified\n",
            "  warnings.warn(msg, category=PerfectSeparationWarning)\n",
            "/usr/local/lib/python3.10/dist-packages/statsmodels/genmod/generalized_linear_model.py:1257: PerfectSeparationWarning: Perfect separation or prediction detected, parameter may not be identified\n",
            "  warnings.warn(msg, category=PerfectSeparationWarning)\n",
            "/usr/local/lib/python3.10/dist-packages/statsmodels/genmod/generalized_linear_model.py:1257: PerfectSeparationWarning: Perfect separation or prediction detected, parameter may not be identified\n",
            "  warnings.warn(msg, category=PerfectSeparationWarning)\n",
            "/usr/local/lib/python3.10/dist-packages/statsmodels/genmod/generalized_linear_model.py:1257: PerfectSeparationWarning: Perfect separation or prediction detected, parameter may not be identified\n",
            "  warnings.warn(msg, category=PerfectSeparationWarning)\n",
            "/usr/local/lib/python3.10/dist-packages/statsmodels/genmod/generalized_linear_model.py:1257: PerfectSeparationWarning: Perfect separation or prediction detected, parameter may not be identified\n",
            "  warnings.warn(msg, category=PerfectSeparationWarning)\n",
            "/usr/local/lib/python3.10/dist-packages/statsmodels/genmod/generalized_linear_model.py:1257: PerfectSeparationWarning: Perfect separation or prediction detected, parameter may not be identified\n",
            "  warnings.warn(msg, category=PerfectSeparationWarning)\n",
            "/usr/local/lib/python3.10/dist-packages/statsmodels/genmod/generalized_linear_model.py:1257: PerfectSeparationWarning: Perfect separation or prediction detected, parameter may not be identified\n",
            "  warnings.warn(msg, category=PerfectSeparationWarning)\n",
            "/usr/local/lib/python3.10/dist-packages/statsmodels/genmod/generalized_linear_model.py:1257: PerfectSeparationWarning: Perfect separation or prediction detected, parameter may not be identified\n",
            "  warnings.warn(msg, category=PerfectSeparationWarning)\n"
          ]
        },
        {
          "output_type": "stream",
          "name": "stdout",
          "text": [
            "Generalized Linear Model (GLM) \n",
            " ----------------------\n",
            "specificity= 1.0000\n",
            "sensitivity= 1.0000\n",
            "Accuracy on the test set: 1.0000\n",
            "Precision: 1.0000\n",
            "Recall: 1.0000\n",
            "f1_score: 1.0000\n",
            "Balanced accuracy: 3.0000\n"
          ]
        }
      ]
    }
  ]
}