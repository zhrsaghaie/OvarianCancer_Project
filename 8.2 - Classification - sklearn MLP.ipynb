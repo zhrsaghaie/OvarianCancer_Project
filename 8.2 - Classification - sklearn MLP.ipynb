{
 "cells": [
  {
   "cell_type": "code",
   "execution_count": 1,
   "metadata": {},
   "outputs": [],
   "source": [
    "import pandas as pd\n",
    "import numpy as np\n",
    "\n",
    "from collections import Counter\n",
    "from sklearn.model_selection import train_test_split\n",
    "from sklearn.preprocessing import StandardScaler\n",
    "from sklearn.metrics import classification_report, confusion_matrix, accuracy_score\n",
    "\n",
    "import matplotlib.pyplot as plt\n",
    "import seaborn as sns"
   ]
  },
  {
   "cell_type": "code",
   "execution_count": 2,
   "metadata": {},
   "outputs": [],
   "source": [
    "# Read Normalized Data\n",
    "\n",
    "filepath = \"./GEO Samples/train_data_Normalized.csv\"\n",
    "train_data = pd.read_csv(filepath)\n",
    "X_train = train_data.drop(['Stage'], axis=1)\n",
    "y_train = train_data[['Stage']]\n",
    "\n",
    "filepath = \"./GEO Samples/test_data_Normalized.csv\"\n",
    "test_data = pd.read_csv(filepath)\n",
    "X_test = test_data.drop(['Stage'], axis=1)\n",
    "y_test = test_data[['Stage']]"
   ]
  },
  {
   "cell_type": "code",
   "execution_count": 3,
   "metadata": {},
   "outputs": [
    {
     "data": {
      "text/plain": [
       "2550"
      ]
     },
     "execution_count": 3,
     "metadata": {},
     "output_type": "execute_result"
    }
   ],
   "source": [
    "features_count = X_train.shape[1]\n",
    "features_count"
   ]
  },
  {
   "cell_type": "markdown",
   "metadata": {},
   "source": [
    "## sklearn Model"
   ]
  },
  {
   "cell_type": "code",
   "execution_count": 42,
   "metadata": {},
   "outputs": [
    {
     "name": "stdout",
     "output_type": "stream",
     "text": [
      "\n",
      "---------------------------\n",
      "MLP Classifier on Train Data\n",
      "--------------------------\n",
      "Accuracy: 0.9901960784313726\n",
      "Classification Report:\n",
      "               precision    recall  f1-score   support\n",
      "\n",
      "           1       1.00      1.00      1.00        26\n",
      "           2       1.00      1.00      1.00        26\n",
      "           3       1.00      0.96      0.98        25\n",
      "           4       0.96      1.00      0.98        25\n",
      "\n",
      "    accuracy                           0.99       102\n",
      "   macro avg       0.99      0.99      0.99       102\n",
      "weighted avg       0.99      0.99      0.99       102\n",
      "\n"
     ]
    },
    {
     "data": {
      "image/png": "[encoded data removed]",
      "text/plain": [
       "<Figure size 288x216 with 2 Axes>"
      ]
     },
     "metadata": {
      "needs_background": "light"
     },
     "output_type": "display_data"
    },
    {
     "name": "stdout",
     "output_type": "stream",
     "text": [
      "--------------------------\n",
      "MLP Classifier\n",
      "--------------------------\n",
      "Accuracy: 0.38461538461538464\n",
      "Classification Report:\n",
      "               precision    recall  f1-score   support\n",
      "\n",
      "           1       1.00      0.17      0.29         6\n",
      "           2       0.45      0.83      0.59         6\n",
      "           3       0.33      0.14      0.20         7\n",
      "           4       0.27      0.43      0.33         7\n",
      "\n",
      "    accuracy                           0.38        26\n",
      "   macro avg       0.52      0.39      0.35        26\n",
      "weighted avg       0.50      0.38      0.35        26\n",
      "\n"
     ]
    },
    {
     "data": {
      "image/png": "[encoded data removed]",
      "text/plain": [
       "<Figure size 288x216 with 2 Axes>"
      ]
     },
     "metadata": {
      "needs_background": "light"
     },
     "output_type": "display_data"
    }
   ],
   "source": [
    "from sklearn.neural_network import MLPClassifier\n",
    "\n",
    "MLP_model = MLPClassifier(\n",
    "    hidden_layer_sizes=(10,100,10,4),\n",
    "    activation='relu',\n",
    "    solver='adam',\n",
    "    max_iter=500,\n",
    "    learning_rate_init=0.005,\n",
    "    random_state=19\n",
    ")\n",
    "\n",
    "MLP_model.fit(X_train, y_train[\"Stage\"])\n",
    "\n",
    "# ======================\n",
    "# Predict on tain set\n",
    "# ======================\n",
    "y_pred = MLP_model.predict(X_train)\n",
    "\n",
    "# Evaluate performance\n",
    "cm = confusion_matrix(y_train, y_pred)\n",
    "\n",
    "print(\"\\n---------------------------\")\n",
    "print(\"MLP Classifier on Train Data\\n--------------------------\")\n",
    "print(\"Accuracy:\", accuracy_score(y_train, y_pred))\n",
    "print(\"Classification Report:\\n\", classification_report(y_train, y_pred))\n",
    "\n",
    "plt.figure(figsize=(4, 3))\n",
    "sns.heatmap(cm, annot=True, fmt='d', cmap='Blues')\n",
    "plt.xlabel('Predicted')\n",
    "plt.ylabel('Actual')\n",
    "plt.title('Confusion Matrix')\n",
    "plt.show()\n",
    "\n",
    "\n",
    "\n",
    "\n",
    "# ======================\n",
    "# Predict on test set\n",
    "# ======================\n",
    "y_pred = MLP_model.predict(X_test)\n",
    "\n",
    "# Evaluate performance\n",
    "cm = confusion_matrix(y_test, y_pred)\n",
    "\n",
    "print(\"--------------------------\\nMLP Classifier\\n--------------------------\")\n",
    "print(\"Accuracy:\", accuracy_score(y_test, y_pred))\n",
    "print(\"Classification Report:\\n\", classification_report(y_test, y_pred))\n",
    "\n",
    "plt.figure(figsize=(4, 3))\n",
    "sns.heatmap(cm, annot=True, fmt='d', cmap='Blues')\n",
    "plt.xlabel('Predicted')\n",
    "plt.ylabel('Actual')\n",
    "plt.title('Confusion Matrix')\n",
    "plt.show()"
   ]
  },
  {
   "cell_type": "code",
   "execution_count": null,
   "metadata": {},
   "outputs": [],
   "source": []
  },
  {
   "cell_type": "code",
   "execution_count": null,
   "metadata": {},
   "outputs": [],
   "source": []
  },
  {
   "cell_type": "code",
   "execution_count": null,
   "metadata": {},
   "outputs": [],
   "source": []
  },
  {
   "cell_type": "code",
   "execution_count": null,
   "metadata": {},
   "outputs": [],
   "source": [
    "import torch\n",
    "import torch.nn as nn\n",
    "epochs = 1000\n",
    "\n",
    "model = nn.Sequential(\n",
    "    nn.Linear(764, 100),\n",
    "    nn.ReLU(),\n",
    "    nn.Linear(100, 50),\n",
    "    nn.ReLU(),\n",
    "    nn.Linear(50, 10),\n",
    "    nn.Sigmoid()\n",
    ")\n",
    "\n",
    "loss_fn = nn.CrossEntropyLoss()\n",
    "loss = loss_fn(output, label)\n",
    "\n",
    "\n",
    "optimizer = torch.optim.Adam(model.parameters(), lr=0.001)\n",
    "\n",
    "for n in range(epochs):\n",
    "    y_pred = model(X)\n",
    "    loss = loss_fn(y_pred, y)\n",
    "    optimizer.zero_grad()\n",
    "    loss.backward()\n",
    "    optimizer.step()\n",
    "\n",
    "print(model)\n"
   ]
  },
  {
   "cell_type": "code",
   "execution_count": null,
   "metadata": {},
   "outputs": [],
   "source": []
  },
  {
   "cell_type": "code",
   "execution_count": null,
   "metadata": {},
   "outputs": [],
   "source": []
  },
  {
   "cell_type": "code",
   "execution_count": null,
   "metadata": {},
   "outputs": [],
   "source": []
  }
 ],
 "metadata": {
  "kernelspec": {
   "display_name": "Python 3",
   "language": "python",
   "name": "python3"
  },
  "language_info": {
   "codemirror_mode": {
    "name": "ipython",
    "version": 3
   },
   "file_extension": ".py",
   "mimetype": "text/x-python",
   "name": "python",
   "nbconvert_exporter": "python",
   "pygments_lexer": "ipython3",
   "version": "3.8.5"
  }
 },
 "nbformat": 4,
 "nbformat_minor": 4
}
