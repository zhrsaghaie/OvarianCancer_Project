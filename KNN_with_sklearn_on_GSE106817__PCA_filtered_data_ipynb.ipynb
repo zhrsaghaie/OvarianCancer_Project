{
  "nbformat": 4,
  "nbformat_minor": 0,
  "metadata": {
    "colab": {
      "provenance": [],
      "mount_file_id": "1YD5YH4prBx7GcHeWGolddV5TucETQqCz",
      "authorship_tag": "ABX9TyNaQOfDUo3wSH2RJa16uH2v",
      "include_colab_link": true
    },
    "kernelspec": {
      "name": "python3",
      "display_name": "Python 3"
    },
    "language_info": {
      "name": "python"
    }
  },
  "cells": [
    {
      "cell_type": "markdown",
      "metadata": {
        "id": "view-in-github",
        "colab_type": "text"
      },
      "source": [
        "<a href=\"https://colab.research.google.com/github/zhrsaghaie/OvarianCancer_Project/blob/master/KNN_with_sklearn_on_GSE106817__PCA_filtered_data_ipynb.ipynb\" target=\"_parent\"><img src=\"https://colab.research.google.com/assets/colab-badge.svg\" alt=\"Open In Colab\"/></a>"
      ]
    },
    {
      "cell_type": "code",
      "execution_count": null,
      "metadata": {
        "id": "vlymfJl47CHk"
      },
      "outputs": [],
      "source": [
        "import pandas as pd\n",
        "import plotly.graph_objects as go\n",
        "from sklearn.model_selection import train_test_split\n",
        "from sklearn.neighbors import KNeighborsClassifier\n",
        "import numpy as np\n",
        "from sklearn.neighbors import KNeighborsClassifier\n",
        "from sklearn.metrics import precision_score, recall_score, f1_score, accuracy_score, confusion_matrix\n",
        "\n",
        "\n",
        "path = \"/content/drive/MyDrive/Colab Notebooks/GSE106817_Data.csv\"\n",
        "all_samples = pd.read_csv(path)\n",
        "\n",
        "y = all_samples[\"HasCancer\"].tolist()\n",
        "x = all_samples.iloc[:, :-1]\n",
        "\n",
        "# Load data from PCA\n",
        "path = \"/content/drive/MyDrive/Colab Notebooks/pca_top_features_file.csv\"\n",
        "PCA_feature_list = pd.read_csv(path)\n",
        "\n",
        "# Filter data by PCA results\n",
        "pca_filter = PCA_feature_list[\"0\"].tolist()\n",
        "x = x[pca_filter]\n",
        "\n",
        "\n",
        "\n",
        "y = list(map(float, y))\n",
        "\n",
        "\n",
        "# Split the data into training and test sets with a test size of 0.4\n",
        "x_train, x_test, y_train, y_test = train_test_split(x, y, test_size=0.4, random_state=0)"
      ]
    },
    {
      "cell_type": "code",
      "source": [
        "def print_mertics(y_test, y_pred):\n",
        "\n",
        "  tn, fp, fn, tp = confusion_matrix(y_test, y_pred).ravel()\n",
        "  specificity = tn / (tn+fp)\n",
        "  sensitivity = tp / (tp+fn)\n",
        "  print(f\"{specificity= :.4f}\")\n",
        "  print(f\"{sensitivity= :.4f}\")\n",
        "\n",
        "  # Calculate precision, recall, and F1-score\n",
        "  precision = precision_score(y_test, y_pred)\n",
        "  recall = recall_score(y_test, y_pred)\n",
        "  f1 = f1_score(y_test, y_pred)\n",
        "\n",
        "  accuracy = accuracy_score(y_test, y_pred)\n",
        "  print(f\"Accuracy on the test set: {accuracy:.4f}\")\n",
        "\n",
        "  print(f\"Precision: {precision:.4f}\")\n",
        "  print(f\"Recall: {recall:.4f}\")\n",
        "  print(f\"f1_score: {f1:.4f}\")\n",
        "\n",
        "  balanced_accuracy =(sensitivity + specificity) /2\n",
        "  print(f\"Balanced accuracy: {balanced_accuracy:.4f}\")\n"
      ],
      "metadata": {
        "id": "yDyBc63MRAjK"
      },
      "execution_count": null,
      "outputs": []
    },
    {
      "cell_type": "markdown",
      "source": [
        "KNN"
      ],
      "metadata": {
        "id": "vhE9RZ81IXWI"
      }
    },
    {
      "cell_type": "code",
      "source": [
        "# using KNN\n",
        "\n",
        "from sklearn.model_selection import train_test_split, cross_val_score\n",
        "from sklearn.neighbors import KNeighborsClassifier\n",
        "\n",
        "# Create a KNN classifier with k = 30\n",
        "knn = KNeighborsClassifier(n_neighbors=30)\n",
        "\n",
        "# Use cross-validation to create test and train data\n",
        "scores = cross_val_score(knn, x, y, cv=5)\n",
        "print(\"Accuracy for each fold: \", scores)\n",
        "print(\"Mean accuracy: \", scores.mean())\n"
      ],
      "metadata": {
        "colab": {
          "base_uri": "https://localhost:8080/"
        },
        "id": "_bYS-UR379zW",
        "outputId": "ec4f488d-906a-4a63-acfa-c456d5904971"
      },
      "execution_count": null,
      "outputs": [
        {
          "output_type": "stream",
          "name": "stdout",
          "text": [
            "Accuracy for each fold:  [0.90810811 0.99459459 0.92391304 0.9673913  0.95652174]\n",
            "Mean accuracy:  0.9501057579318448\n"
          ]
        }
      ]
    },
    {
      "cell_type": "code",
      "source": [
        "# Create a KNN classifier with k = 30\n",
        "knn = KNeighborsClassifier(n_neighbors=30)\n",
        "\n",
        "# Use cross-validation to create test and train data\n",
        "scores = cross_val_score(knn, x, y, cv=5)\n",
        "print(\"Accuracy for each fold: \", scores)\n",
        "print(\"Mean accuracy: \", scores.mean())\n",
        "# Fit the KNN classifier on the training data\n",
        "knn.fit(x_train, y_train)\n",
        "\n",
        "\n",
        "# Evaluate the KNN classifier on the test data\n",
        "accuracy = knn.score(x_test, y_test)\n",
        "print(\"Accuracy on the test set: \", accuracy)"
      ],
      "metadata": {
        "colab": {
          "base_uri": "https://localhost:8080/"
        },
        "id": "Hv6JMifWN1cD",
        "outputId": "b28af4b0-c79b-4c35-97eb-685bdf4af009"
      },
      "execution_count": null,
      "outputs": [
        {
          "output_type": "stream",
          "name": "stdout",
          "text": [
            "Accuracy for each fold:  [0.90810811 0.99459459 0.92391304 0.9673913  0.95652174]\n",
            "Mean accuracy:  0.9501057579318448\n",
            "Accuracy on the test set:  0.962059620596206\n"
          ]
        }
      ]
    },
    {
      "cell_type": "code",
      "source": [
        "from pandas.core.arrays.timedeltas import precision_from_unit\n",
        "# Fit the KNN classifier on the training data\n",
        "knn.fit(x_train, y_train)\n",
        "\n",
        "\n",
        "# Evaluate the KNN classifier on the test data\n",
        "y_pred = knn.predict(x_test)\n",
        "\n",
        "print('KNN \\n -----------------')\n",
        "print_mertics(y_test, y_pred)"
      ],
      "metadata": {
        "colab": {
          "base_uri": "https://localhost:8080/"
        },
        "id": "pQ38gVqw792C",
        "outputId": "be6964c2-f944-456d-a987-643007ecac75"
      },
      "execution_count": null,
      "outputs": [
        {
          "output_type": "stream",
          "name": "stdout",
          "text": [
            "KNN \n",
            " -----------------\n",
            "specificity= 0.9874\n",
            "sensitivity= 0.9160\n",
            "Accuracy on the test set: 0.9621\n",
            "Precision: 0.9756\n",
            "Recall: 0.9160\n",
            "f1_score: 0.9449\n",
            "Balanced accuracy: 0.9517\n"
          ]
        }
      ]
    },
    {
      "cell_type": "markdown",
      "source": [
        "Random Forest Classifier"
      ],
      "metadata": {
        "id": "CFo5AKzIIRNG"
      }
    },
    {
      "cell_type": "code",
      "source": [
        "from sklearn.ensemble import RandomForestClassifier\n",
        "\n",
        "\n",
        "# Instantiate a random forest classifier with 500 trees\n",
        "rfc = RandomForestClassifier(n_estimators=2)\n",
        "\n",
        "# Fit the classifier to the training data\n",
        "rfc.fit(x_train, y_train)"
      ],
      "metadata": {
        "id": "Wj1YbmoFFnX1",
        "colab": {
          "base_uri": "https://localhost:8080/",
          "height": 74
        },
        "outputId": "a2467ab2-5df3-4bf9-c0e2-71ecb6684e14"
      },
      "execution_count": null,
      "outputs": [
        {
          "output_type": "execute_result",
          "data": {
            "text/plain": [
              "RandomForestClassifier(n_estimators=2)"
            ],
            "text/html": [
              "<style>#sk-container-id-1 {color: black;background-color: white;}#sk-container-id-1 pre{padding: 0;}#sk-container-id-1 div.sk-toggleable {background-color: white;}#sk-container-id-1 label.sk-toggleable__label {cursor: pointer;display: block;width: 100%;margin-bottom: 0;padding: 0.3em;box-sizing: border-box;text-align: center;}#sk-container-id-1 label.sk-toggleable__label-arrow:before {content: \"▸\";float: left;margin-right: 0.25em;color: #696969;}#sk-container-id-1 label.sk-toggleable__label-arrow:hover:before {color: black;}#sk-container-id-1 div.sk-estimator:hover label.sk-toggleable__label-arrow:before {color: black;}#sk-container-id-1 div.sk-toggleable__content {max-height: 0;max-width: 0;overflow: hidden;text-align: left;background-color: #f0f8ff;}#sk-container-id-1 div.sk-toggleable__content pre {margin: 0.2em;color: black;border-radius: 0.25em;background-color: #f0f8ff;}#sk-container-id-1 input.sk-toggleable__control:checked~div.sk-toggleable__content {max-height: 200px;max-width: 100%;overflow: auto;}#sk-container-id-1 input.sk-toggleable__control:checked~label.sk-toggleable__label-arrow:before {content: \"▾\";}#sk-container-id-1 div.sk-estimator input.sk-toggleable__control:checked~label.sk-toggleable__label {background-color: #d4ebff;}#sk-container-id-1 div.sk-label input.sk-toggleable__control:checked~label.sk-toggleable__label {background-color: #d4ebff;}#sk-container-id-1 input.sk-hidden--visually {border: 0;clip: rect(1px 1px 1px 1px);clip: rect(1px, 1px, 1px, 1px);height: 1px;margin: -1px;overflow: hidden;padding: 0;position: absolute;width: 1px;}#sk-container-id-1 div.sk-estimator {font-family: monospace;background-color: #f0f8ff;border: 1px dotted black;border-radius: 0.25em;box-sizing: border-box;margin-bottom: 0.5em;}#sk-container-id-1 div.sk-estimator:hover {background-color: #d4ebff;}#sk-container-id-1 div.sk-parallel-item::after {content: \"\";width: 100%;border-bottom: 1px solid gray;flex-grow: 1;}#sk-container-id-1 div.sk-label:hover label.sk-toggleable__label {background-color: #d4ebff;}#sk-container-id-1 div.sk-serial::before {content: \"\";position: absolute;border-left: 1px solid gray;box-sizing: border-box;top: 0;bottom: 0;left: 50%;z-index: 0;}#sk-container-id-1 div.sk-serial {display: flex;flex-direction: column;align-items: center;background-color: white;padding-right: 0.2em;padding-left: 0.2em;position: relative;}#sk-container-id-1 div.sk-item {position: relative;z-index: 1;}#sk-container-id-1 div.sk-parallel {display: flex;align-items: stretch;justify-content: center;background-color: white;position: relative;}#sk-container-id-1 div.sk-item::before, #sk-container-id-1 div.sk-parallel-item::before {content: \"\";position: absolute;border-left: 1px solid gray;box-sizing: border-box;top: 0;bottom: 0;left: 50%;z-index: -1;}#sk-container-id-1 div.sk-parallel-item {display: flex;flex-direction: column;z-index: 1;position: relative;background-color: white;}#sk-container-id-1 div.sk-parallel-item:first-child::after {align-self: flex-end;width: 50%;}#sk-container-id-1 div.sk-parallel-item:last-child::after {align-self: flex-start;width: 50%;}#sk-container-id-1 div.sk-parallel-item:only-child::after {width: 0;}#sk-container-id-1 div.sk-dashed-wrapped {border: 1px dashed gray;margin: 0 0.4em 0.5em 0.4em;box-sizing: border-box;padding-bottom: 0.4em;background-color: white;}#sk-container-id-1 div.sk-label label {font-family: monospace;font-weight: bold;display: inline-block;line-height: 1.2em;}#sk-container-id-1 div.sk-label-container {text-align: center;}#sk-container-id-1 div.sk-container {/* jupyter's `normalize.less` sets `[hidden] { display: none; }` but bootstrap.min.css set `[hidden] { display: none !important; }` so we also need the `!important` here to be able to override the default hidden behavior on the sphinx rendered scikit-learn.org. See: https://github.com/scikit-learn/scikit-learn/issues/21755 */display: inline-block !important;position: relative;}#sk-container-id-1 div.sk-text-repr-fallback {display: none;}</style><div id=\"sk-container-id-1\" class=\"sk-top-container\"><div class=\"sk-text-repr-fallback\"><pre>RandomForestClassifier(n_estimators=2)</pre><b>In a Jupyter environment, please rerun this cell to show the HTML representation or trust the notebook. <br />On GitHub, the HTML representation is unable to render, please try loading this page with nbviewer.org.</b></div><div class=\"sk-container\" hidden><div class=\"sk-item\"><div class=\"sk-estimator sk-toggleable\"><input class=\"sk-toggleable__control sk-hidden--visually\" id=\"sk-estimator-id-1\" type=\"checkbox\" checked><label for=\"sk-estimator-id-1\" class=\"sk-toggleable__label sk-toggleable__label-arrow\">RandomForestClassifier</label><div class=\"sk-toggleable__content\"><pre>RandomForestClassifier(n_estimators=2)</pre></div></div></div></div></div>"
            ]
          },
          "metadata": {},
          "execution_count": 9
        }
      ]
    },
    {
      "cell_type": "code",
      "source": [
        "# Predict the labels of the testing data\n",
        "y_pred = rfc.predict(x_test)\n",
        "\n",
        "print('Random Forest Classifier \\n ----------------------')\n",
        "print_mertics(y_test, y_pred)"
      ],
      "metadata": {
        "colab": {
          "base_uri": "https://localhost:8080/"
        },
        "id": "rIDEF9AYF57e",
        "outputId": "07bb77ab-1f6a-4120-a408-ec6c43828939"
      },
      "execution_count": null,
      "outputs": [
        {
          "output_type": "stream",
          "name": "stdout",
          "text": [
            "Random Forest Classifier \n",
            " ----------------------\n",
            "specificity= 1.0000\n",
            "sensitivity= 0.9847\n",
            "Accuracy on the test set: 0.9946\n",
            "Precision: 1.0000\n",
            "Recall: 0.9847\n",
            "f1_score: 0.9923\n",
            "Balanced accuracy: 0.9924\n"
          ]
        }
      ]
    },
    {
      "cell_type": "code",
      "source": [
        "(0.9258 +0.9347)/2\n"
      ],
      "metadata": {
        "colab": {
          "base_uri": "https://localhost:8080/"
        },
        "id": "iNjXK6V1GNfg",
        "outputId": "c11cbe5a-67c6-4525-e3db-981254e57fdc"
      },
      "execution_count": null,
      "outputs": [
        {
          "output_type": "execute_result",
          "data": {
            "text/plain": [
              "0.93025"
            ]
          },
          "metadata": {},
          "execution_count": 12
        }
      ]
    },
    {
      "cell_type": "code",
      "source": [
        "print(x_train.var().max())\n"
      ],
      "metadata": {
        "colab": {
          "base_uri": "https://localhost:8080/"
        },
        "id": "gu2Fuo3ECPPf",
        "outputId": "106e5033-c2f5-4c47-adcb-4fed85ecec37"
      },
      "execution_count": null,
      "outputs": [
        {
          "output_type": "stream",
          "name": "stdout",
          "text": [
            "6.5513573254645285\n"
          ]
        }
      ]
    },
    {
      "cell_type": "markdown",
      "source": [
        "Generalized Linear Model (GLM)"
      ],
      "metadata": {
        "id": "smd5qIEr4k6E"
      }
    },
    {
      "cell_type": "code",
      "source": [
        "import statsmodels.api as sm\n",
        "\n",
        "# Create a GLM model\n",
        "glm_model = sm.GLM(y, x, family=sm.families.Binomial())\n",
        "\n",
        "# Fit the model\n",
        "glm_results = glm_model.fit()\n",
        "\n",
        "# # Print the summary of the model\n",
        "# print(glm_results.summary())"
      ],
      "metadata": {
        "id": "iy7pkqyU4h9S"
      },
      "execution_count": null,
      "outputs": []
    },
    {
      "cell_type": "code",
      "source": [
        "# Predict the labels using the model\n",
        "\n",
        "print('Generalized Linear Model (GLM) \\n -------------------')\n",
        "\n",
        "y_pred_prob = glm_results.predict(x_test)\n",
        "y_pred = (y_pred_prob > 0.5).astype(int)  # Convert probabilities to binary predictions\n",
        "\n",
        "print_mertics(y_test, y_pred)"
      ],
      "metadata": {
        "colab": {
          "base_uri": "https://localhost:8080/"
        },
        "id": "F3n4GfF-5B4I",
        "outputId": "9a450cb6-f12f-4941-e9b2-dcd4ff91a144"
      },
      "execution_count": null,
      "outputs": [
        {
          "output_type": "stream",
          "name": "stdout",
          "text": [
            "Generalized Linear Model (GLM) \n",
            " -------------------\n",
            "specificity= 0.9958\n",
            "sensitivity= 0.9847\n",
            "Accuracy on the test set: 0.9919\n",
            "Precision: 0.9923\n",
            "Recall: 0.9847\n",
            "f1_score: 0.9885\n",
            "Balanced accuracy: 2.9763\n"
          ]
        }
      ]
    }
  ]
}