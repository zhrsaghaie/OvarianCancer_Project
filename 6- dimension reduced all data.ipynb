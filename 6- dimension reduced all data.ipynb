{
 "cells": [
  {
   "cell_type": "code",
   "execution_count": 1,
   "metadata": {},
   "outputs": [
    {
     "name": "stderr",
     "output_type": "stream",
     "text": [
      "C:\\Users\\aisa\\anaconda3\\lib\\site-packages\\pandas\\core\\computation\\expressions.py:20: UserWarning: Pandas requires version '2.7.3' or newer of 'numexpr' (version '2.7.1' currently installed).\n",
      "  from pandas.core.computation.check import NUMEXPR_INSTALLED\n"
     ]
    }
   ],
   "source": [
    "import pandas as pd\n",
    "import numpy as np\n",
    "import random\n",
    "import os\n",
    "import matplotlib.pyplot as plt\n",
    "import seaborn as sns\n",
    "from sklearn.decomposition import PCA\n"
   ]
  },
  {
   "cell_type": "code",
   "execution_count": 6,
   "metadata": {},
   "outputs": [],
   "source": [
    "filepath = \"./GEO Samples/Normalized_samples_with_lables.csv\"\n",
    "df = pd.read_csv(filepath)\n",
    "\n",
    "# Each class number of sample set\n",
    "\n",
    "# 0    300\n",
    "# 1    265\n",
    "# 2     72\n",
    "# 3    331\n",
    "# 4     32"
   ]
  },
  {
   "cell_type": "code",
   "execution_count": 7,
   "metadata": {},
   "outputs": [
    {
     "data": {
      "text/plain": [
       "Stage\n",
       "3    331\n",
       "0    300\n",
       "2    288\n",
       "4    288\n",
       "1    265\n",
       "Name: count, dtype: int64"
      ]
     },
     "execution_count": 7,
     "metadata": {},
     "output_type": "execute_result"
    }
   ],
   "source": [
    "# Repute class 2 and 4 to around 300 sample set == Total of 1472 Samples\n",
    "\n",
    "# Class 4: originally has 32 samples. We repute each one 8 times = 288\n",
    "\n",
    "# Filter rows where Stage == 4\n",
    "df_stage_4 = df[df['Stage'] == 4]\n",
    "\n",
    "# Repeat those rows n times\n",
    "n = 8\n",
    "df_repeated = pd.concat([df_stage_4] * n, ignore_index=True)\n",
    "\n",
    "# Combine with the original DataFrame\n",
    "df = pd.concat([df, df_repeated], ignore_index=True)\n",
    "\n",
    "# Class 2: originally has 72 samples. We repute each one 3 times = 288\n",
    "df_stage_2 = df[df['Stage'] == 2]\n",
    "n = 3\n",
    "df_repeated = pd.concat([df_stage_2] * n, ignore_index=True)\n",
    "df = pd.concat([df, df_repeated], ignore_index=True)\n",
    "\n",
    "df['Stage'].value_counts()"
   ]
  },
  {
   "cell_type": "code",
   "execution_count": 10,
   "metadata": {},
   "outputs": [],
   "source": [
    "# Shuffle rows\n",
    "data = df.sample(frac=1).reset_index(drop=True)\n",
    "\n",
    "\n",
    "y = data.loc[:, data.columns == 'Stage']\n",
    "x = data.loc[:, data.columns != 'Stage']\n"
   ]
  },
  {
   "cell_type": "code",
   "execution_count": 15,
   "metadata": {},
   "outputs": [],
   "source": [
    "col = data.columns\n",
    "filepath = \"./GEO Samples/\"\n",
    "\n",
    "with open(filepath+\"list of miRNA parts.txt\", \"w\") as txt_file:\n",
    "    for line in col:\n",
    "        txt_file.write(line + \"\\n\") "
   ]
  },
  {
   "cell_type": "code",
   "execution_count": 3,
   "metadata": {},
   "outputs": [
    {
     "data": {
      "text/plain": [
       "array([  28,   68,   76,  150,  218,  234,  251,  417,  432,  437,  460,\n",
       "        472,  499,  542,  546,  569,  570,  579,  597,  621,  634,  702,\n",
       "        703,  712,  713,  731,  767,  828,  834,  876,  914,  970, 1014,\n",
       "       1022, 1036, 1039, 1101, 1107, 1140, 1150, 1168, 1179, 1181, 1183,\n",
       "       1190, 1193, 1213, 1246, 1270, 1299, 1313, 1319, 1454, 1460, 1502,\n",
       "       1503, 1505, 1509, 1547, 1550, 1575, 1576, 1606, 1646, 1693, 1699,\n",
       "       1713, 1749, 1774, 1793, 1802, 1803, 1806, 1815, 1879, 1951, 1961,\n",
       "       1962, 1970, 1978, 2025, 2040, 2054, 2084, 2085, 2101, 2109, 2137,\n",
       "       2197, 2213, 2219, 2229, 2231, 2256, 2286, 2296, 2299, 2358, 2444,\n",
       "       2456], dtype=int64)"
      ]
     },
     "execution_count": 3,
     "metadata": {},
     "output_type": "execute_result"
    }
   ],
   "source": [
    "from sklearn.feature_selection import mutual_info_classif, SelectKBest\n",
    "\n",
    "k = 100\n",
    "mi_selector = SelectKBest(score_func=mutual_info_classif, k=k)\n",
    "x_mi_selected = mi_selector.fit_transform(x, y[\"Stage\"])\n",
    "\n",
    "# Get the actual indices of selected features\n",
    "mi_indices = mi_selector.get_support(indices=True)\n",
    "mi_indices"
   ]
  },
  {
   "cell_type": "code",
   "execution_count": 4,
   "metadata": {},
   "outputs": [
    {
     "data": {
      "text/plain": [
       "array([2.75018536e-03, 2.13597712e-04, 6.07382826e-04, ...,\n",
       "       3.16028925e-04, 2.06400666e-05, 3.75611971e-04])"
      ]
     },
     "execution_count": 4,
     "metadata": {},
     "output_type": "execute_result"
    }
   ],
   "source": [
    "#rain Random Forest on full data and get feature importances\n",
    "\n",
    "from sklearn.ensemble import RandomForestClassifier\n",
    "\n",
    "\n",
    "rf = RandomForestClassifier(n_estimators=100, random_state=42, class_weight='balanced')\n",
    "rf.fit(x, y[\"Stage\"])\n",
    "importances = rf.feature_importances_\n",
    "importances"
   ]
  },
  {
   "cell_type": "code",
   "execution_count": 5,
   "metadata": {},
   "outputs": [
    {
     "name": "stdout",
     "output_type": "stream",
     "text": [
      "Overlap count: 43 out of 100\n",
      "Overlap indices: [68, 150, 218, 234, 251, 417, 432, 472, 542, 702, 767, 834, 876, 914, 970, 1039, 1107, 1140, 1168, 1183, 1270, 1319, 1460, 1503, 1509, 1550, 1576, 1606, 1774, 1802, 1806, 1815, 1961, 1962, 2054, 2084, 2101, 2109, 2137, 2197, 2231, 2299, 2358]\n"
     ]
    }
   ],
   "source": [
    "# Get top k feature indices by model importance\n",
    "top_k_model_indices = np.argsort(importances)[::-1][:k]\n",
    "\n",
    "# Compare overlap\n",
    "overlap = set(mi_indices) & set(top_k_model_indices)\n",
    "print(f\"Overlap count: {len(overlap)} out of {k}\")\n",
    "print(f\"Overlap indices: {sorted(overlap)}\")\n"
   ]
  },
  {
   "cell_type": "code",
   "execution_count": 6,
   "metadata": {},
   "outputs": [],
   "source": [
    "x_validated = x.iloc[:, sorted(overlap)]\n"
   ]
  },
  {
   "cell_type": "code",
   "execution_count": 9,
   "metadata": {},
   "outputs": [],
   "source": [
    "filepath = \"./GEO Samples/dimension_reduced_data.csv\"\n",
    "x_validated.to_csv(filepath, index=False)"
   ]
  },
  {
   "cell_type": "code",
   "execution_count": 10,
   "metadata": {},
   "outputs": [],
   "source": [
    "filepath = \"./GEO Samples/dimension_reduced_data_lables.csv\"\n",
    "y.to_csv(filepath, index=False)"
   ]
  },
  {
   "cell_type": "code",
   "execution_count": null,
   "metadata": {},
   "outputs": [],
   "source": []
  }
 ],
 "metadata": {
  "kernelspec": {
   "display_name": "Python 3",
   "language": "python",
   "name": "python3"
  },
  "language_info": {
   "codemirror_mode": {
    "name": "ipython",
    "version": 3
   },
   "file_extension": ".py",
   "mimetype": "text/x-python",
   "name": "python",
   "nbconvert_exporter": "python",
   "pygments_lexer": "ipython3",
   "version": "3.8.5"
  }
 },
 "nbformat": 4,
 "nbformat_minor": 4
}
